{
 "cells": [
  {
   "cell_type": "markdown",
   "metadata": {},
   "source": [
    "# Maze Runner Game\n",
    "\n",
    "This notebook allows you to play the maze runner game in two different modes:\n",
    "1. Normal mode - A new random maze is generated each time\n",
    "2. Static mode - The same maze is used each time\n",
    "\n",
    "## Install Requirements"
   ]
  },
  {
   "cell_type": "code",
   "execution_count": null,
   "metadata": {},
   "outputs": [],
   "source": [
    "!pip install pygame ipywidgets pillow"
   ]
  },
  {
   "cell_type": "markdown",
   "metadata": {},
   "source": [
    "## Run Normal Maze\n",
    "\n",
    "In this mode, a new random maze is generated each time you run the cell."
   ]
  },
  {
   "cell_type": "code",
   "execution_count": null,
   "metadata": {},
   "outputs": [],
   "source": [
    "from src.jupyter_game import run_jupyter_game\n",
    "run_jupyter_game(static_maze=False)"
   ]
  },
  {
   "cell_type": "markdown",
   "metadata": {},
   "source": [
    "## Run Static Maze\n",
    "\n",
    "In this mode, the same maze is used each time you run the cell, allowing you to practice and improve your time."
   ]
  },
  {
   "cell_type": "code",
   "execution_count": null,
   "metadata": {},
   "outputs": [],
   "source": [
    "from src.jupyter_game import run_jupyter_game\n",
    "run_jupyter_game(static_maze=True)"
   ]
  }
 ],
 "metadata": {
  "kernelspec": {
   "display_name": "pymaze",
   "language": "python",
   "name": "python3"
  },
  "language_info": {
   "codemirror_mode": {
    "name": "ipython",
    "version": 3
   },
   "file_extension": ".py",
   "mimetype": "text/x-python",
   "name": "python",
   "nbconvert_exporter": "python",
   "pygments_lexer": "ipython3",
   "version": "3.13.2"
  }
 },
 "nbformat": 4,
 "nbformat_minor": 5
} 